{
  "nbformat": 4,
  "nbformat_minor": 0,
  "metadata": {
    "colab": {
      "provenance": []
    },
    "kernelspec": {
      "name": "python3",
      "display_name": "Python 3"
    },
    "language_info": {
      "name": "python"
    }
  },
  "cells": [
    {
      "cell_type": "code",
      "execution_count": null,
      "metadata": {
        "id": "rZmnsylha8gP"
      },
      "outputs": [],
      "source": [
        "if(polyuria == 0)\n",
        "  if(gender == male)\n",
        "      if(polydipsia == 0)\n",
        "        if(irritability == 0)\n",
        "          NO DIABETES\n",
        "        else\n",
        "          if(genitalia_thrush == 0)\n",
        "            NO DIABETES\n",
        "          else\n",
        "            DIABETES\n",
        "      else\n",
        "        if(muscle_stiffness == 1)\n",
        "          if(delayed_healing == 0)\n",
        "            NO DIABETES\n",
        "          else\n",
        "            DIABETES\n",
        "        else\n",
        "          DIABETES\n",
        "  else\n",
        "    if(alopecia == 1)\n",
        "      if(delated_healing == 1)\n",
        "        NO DIABATES\n",
        "      else\n",
        "        DIABETES\n",
        "    else\n",
        "      if(age < 35)\n",
        "        if(visual_blurring == 0)\n",
        "          NO DIABETES\n",
        "        else\n",
        "          DIABETES\n",
        "      else\n",
        "        DIABETES\n",
        "\n",
        "else\n",
        "  if(age >= 70)\n",
        "    if(sudden_weight_loss == 0)\n",
        "      NO DIABETES\n",
        "    else\n",
        "      DIABETES\n",
        "  else\n",
        "    if(polydipsia == 0)\n",
        "      if(obesity == 1)\n",
        "        if(delayed_healing == 1)\n",
        "          DIABETES\n",
        "        else\n",
        "          NO DIABETES\n",
        "      else\n",
        "        DIABETES\n",
        "    else\n",
        "      DIABETES"
      ]
    }
  ]
}